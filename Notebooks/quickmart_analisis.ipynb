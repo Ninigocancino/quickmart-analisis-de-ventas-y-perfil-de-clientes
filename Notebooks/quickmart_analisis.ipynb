{
 "cells": [
  {
   "cell_type": "markdown",
   "metadata": {},
   "source": [
    "Carga y exploracion inicial de datos "
   ]
  },
  {
   "cell_type": "markdown",
   "metadata": {},
   "source": [
    "Se importan al notebook las librería necesarias para el proyecto "
   ]
  },
  {
   "cell_type": "code",
   "execution_count": 2,
   "metadata": {},
   "outputs": [],
   "source": [
    "import pandas as pd\n",
    "import seaborn as sns\n",
    "import matplotlib.pyplot as plt"
   ]
  },
  {
   "cell_type": "code",
   "execution_count": null,
   "metadata": {},
   "outputs": [
    {
     "name": "stdout",
     "output_type": "stream",
     "text": [
      "El archivo NO existe. Verifica la ruta o genera el archivo nuevamente.\n"
     ]
    }
   ],
   "source": [
    "import os\n",
    "\n",
    "# Verifica si el archivo existe\n",
    "if os.path.exists(\"data/datos_retail.csv\"):\n",
    "    print(\"El archivo existe.\")\n",
    "else:\n",
    "    print(\"El archivo NO existe. Verifica la ruta o genera el archivo nuevamente.\")"
   ]
  },
  {
   "cell_type": "code",
   "execution_count": 11,
   "metadata": {},
   "outputs": [],
   "source": [
    "df_mart = pd.read_csv(\"../Data/datos_retail.csv\")"
   ]
  },
  {
   "cell_type": "code",
   "execution_count": 12,
   "metadata": {},
   "outputs": [
    {
     "data": {
      "text/html": [
       "<div>\n",
       "<style scoped>\n",
       "    .dataframe tbody tr th:only-of-type {\n",
       "        vertical-align: middle;\n",
       "    }\n",
       "\n",
       "    .dataframe tbody tr th {\n",
       "        vertical-align: top;\n",
       "    }\n",
       "\n",
       "    .dataframe thead th {\n",
       "        text-align: right;\n",
       "    }\n",
       "</style>\n",
       "<table border=\"1\" class=\"dataframe\">\n",
       "  <thead>\n",
       "    <tr style=\"text-align: right;\">\n",
       "      <th></th>\n",
       "      <th>ID_Cliente</th>\n",
       "      <th>Edad</th>\n",
       "      <th>Género</th>\n",
       "      <th>Fecha_Compra</th>\n",
       "      <th>Monto_Compra</th>\n",
       "      <th>Producto_Categoría</th>\n",
       "      <th>Método_Pago</th>\n",
       "      <th>Ubicación_Tienda</th>\n",
       "      <th>Promoción</th>\n",
       "      <th>Frecuencia_Compra</th>\n",
       "    </tr>\n",
       "  </thead>\n",
       "  <tbody>\n",
       "    <tr>\n",
       "      <th>0</th>\n",
       "      <td>1</td>\n",
       "      <td>56</td>\n",
       "      <td>Otro</td>\n",
       "      <td>2020-01-01</td>\n",
       "      <td>414.01</td>\n",
       "      <td>Hogar</td>\n",
       "      <td>Débito</td>\n",
       "      <td>Norte</td>\n",
       "      <td>No</td>\n",
       "      <td>Regular</td>\n",
       "    </tr>\n",
       "    <tr>\n",
       "      <th>1</th>\n",
       "      <td>2</td>\n",
       "      <td>69</td>\n",
       "      <td>Otro</td>\n",
       "      <td>2020-01-02</td>\n",
       "      <td>185.32</td>\n",
       "      <td>Ropa</td>\n",
       "      <td>Tarjeta de Crédito</td>\n",
       "      <td>Norte</td>\n",
       "      <td>Sí</td>\n",
       "      <td>Regular</td>\n",
       "    </tr>\n",
       "  </tbody>\n",
       "</table>\n",
       "</div>"
      ],
      "text/plain": [
       "   ID_Cliente  Edad Género Fecha_Compra  Monto_Compra Producto_Categoría  \\\n",
       "0           1    56   Otro   2020-01-01        414.01              Hogar   \n",
       "1           2    69   Otro   2020-01-02        185.32               Ropa   \n",
       "\n",
       "          Método_Pago Ubicación_Tienda Promoción Frecuencia_Compra  \n",
       "0              Débito            Norte        No           Regular  \n",
       "1  Tarjeta de Crédito            Norte        Sí           Regular  "
      ]
     },
     "execution_count": 12,
     "metadata": {},
     "output_type": "execute_result"
    }
   ],
   "source": [
    "df_mart.head(2)"
   ]
  },
  {
   "cell_type": "markdown",
   "metadata": {},
   "source": [
    "Información genral del datset"
   ]
  },
  {
   "cell_type": "code",
   "execution_count": 13,
   "metadata": {},
   "outputs": [
    {
     "name": "stdout",
     "output_type": "stream",
     "text": [
      "<class 'pandas.core.frame.DataFrame'>\n",
      "RangeIndex: 1000 entries, 0 to 999\n",
      "Data columns (total 10 columns):\n",
      " #   Column              Non-Null Count  Dtype  \n",
      "---  ------              --------------  -----  \n",
      " 0   ID_Cliente          1000 non-null   int64  \n",
      " 1   Edad                1000 non-null   int64  \n",
      " 2   Género              1000 non-null   object \n",
      " 3   Fecha_Compra        1000 non-null   object \n",
      " 4   Monto_Compra        1000 non-null   float64\n",
      " 5   Producto_Categoría  1000 non-null   object \n",
      " 6   Método_Pago         1000 non-null   object \n",
      " 7   Ubicación_Tienda    1000 non-null   object \n",
      " 8   Promoción           1000 non-null   object \n",
      " 9   Frecuencia_Compra   1000 non-null   object \n",
      "dtypes: float64(1), int64(2), object(7)\n",
      "memory usage: 78.3+ KB\n"
     ]
    }
   ],
   "source": [
    "df_mart.info()"
   ]
  },
  {
   "cell_type": "markdown",
   "metadata": {},
   "source": [
    "Información estadistica"
   ]
  },
  {
   "cell_type": "code",
   "execution_count": 14,
   "metadata": {},
   "outputs": [
    {
     "data": {
      "text/html": [
       "<div>\n",
       "<style scoped>\n",
       "    .dataframe tbody tr th:only-of-type {\n",
       "        vertical-align: middle;\n",
       "    }\n",
       "\n",
       "    .dataframe tbody tr th {\n",
       "        vertical-align: top;\n",
       "    }\n",
       "\n",
       "    .dataframe thead th {\n",
       "        text-align: right;\n",
       "    }\n",
       "</style>\n",
       "<table border=\"1\" class=\"dataframe\">\n",
       "  <thead>\n",
       "    <tr style=\"text-align: right;\">\n",
       "      <th></th>\n",
       "      <th>ID_Cliente</th>\n",
       "      <th>Edad</th>\n",
       "      <th>Monto_Compra</th>\n",
       "    </tr>\n",
       "  </thead>\n",
       "  <tbody>\n",
       "    <tr>\n",
       "      <th>count</th>\n",
       "      <td>1000.000000</td>\n",
       "      <td>1000.00000</td>\n",
       "      <td>1000.000000</td>\n",
       "    </tr>\n",
       "    <tr>\n",
       "      <th>mean</th>\n",
       "      <td>500.500000</td>\n",
       "      <td>43.81900</td>\n",
       "      <td>251.304810</td>\n",
       "    </tr>\n",
       "    <tr>\n",
       "      <th>std</th>\n",
       "      <td>288.819436</td>\n",
       "      <td>14.99103</td>\n",
       "      <td>139.440868</td>\n",
       "    </tr>\n",
       "    <tr>\n",
       "      <th>min</th>\n",
       "      <td>1.000000</td>\n",
       "      <td>18.00000</td>\n",
       "      <td>10.090000</td>\n",
       "    </tr>\n",
       "    <tr>\n",
       "      <th>25%</th>\n",
       "      <td>250.750000</td>\n",
       "      <td>31.00000</td>\n",
       "      <td>126.815000</td>\n",
       "    </tr>\n",
       "    <tr>\n",
       "      <th>50%</th>\n",
       "      <td>500.500000</td>\n",
       "      <td>44.00000</td>\n",
       "      <td>252.535000</td>\n",
       "    </tr>\n",
       "    <tr>\n",
       "      <th>75%</th>\n",
       "      <td>750.250000</td>\n",
       "      <td>56.00000</td>\n",
       "      <td>371.800000</td>\n",
       "    </tr>\n",
       "    <tr>\n",
       "      <th>max</th>\n",
       "      <td>1000.000000</td>\n",
       "      <td>69.00000</td>\n",
       "      <td>498.570000</td>\n",
       "    </tr>\n",
       "  </tbody>\n",
       "</table>\n",
       "</div>"
      ],
      "text/plain": [
       "        ID_Cliente        Edad  Monto_Compra\n",
       "count  1000.000000  1000.00000   1000.000000\n",
       "mean    500.500000    43.81900    251.304810\n",
       "std     288.819436    14.99103    139.440868\n",
       "min       1.000000    18.00000     10.090000\n",
       "25%     250.750000    31.00000    126.815000\n",
       "50%     500.500000    44.00000    252.535000\n",
       "75%     750.250000    56.00000    371.800000\n",
       "max    1000.000000    69.00000    498.570000"
      ]
     },
     "execution_count": 14,
     "metadata": {},
     "output_type": "execute_result"
    }
   ],
   "source": [
    "df_mart.describe()"
   ]
  },
  {
   "cell_type": "markdown",
   "metadata": {},
   "source": [
    "Revisión de valores faltantes"
   ]
  },
  {
   "cell_type": "code",
   "execution_count": 15,
   "metadata": {},
   "outputs": [
    {
     "data": {
      "text/plain": [
       "ID_Cliente            0\n",
       "Edad                  0\n",
       "Género                0\n",
       "Fecha_Compra          0\n",
       "Monto_Compra          0\n",
       "Producto_Categoría    0\n",
       "Método_Pago           0\n",
       "Ubicación_Tienda      0\n",
       "Promoción             0\n",
       "Frecuencia_Compra     0\n",
       "dtype: int64"
      ]
     },
     "execution_count": 15,
     "metadata": {},
     "output_type": "execute_result"
    }
   ],
   "source": [
    "df_mart.isnull().sum()"
   ]
  }
 ],
 "metadata": {
  "kernelspec": {
   "display_name": "venv",
   "language": "python",
   "name": "python3"
  },
  "language_info": {
   "codemirror_mode": {
    "name": "ipython",
    "version": 3
   },
   "file_extension": ".py",
   "mimetype": "text/x-python",
   "name": "python",
   "nbconvert_exporter": "python",
   "pygments_lexer": "ipython3",
   "version": "3.13.1"
  }
 },
 "nbformat": 4,
 "nbformat_minor": 2
}
