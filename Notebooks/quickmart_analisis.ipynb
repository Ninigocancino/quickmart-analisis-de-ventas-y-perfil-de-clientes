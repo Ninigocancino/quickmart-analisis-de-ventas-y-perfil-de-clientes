{
 "cells": [
  {
   "cell_type": "markdown",
   "metadata": {},
   "source": [
    "Carga y exploracion inicial de datos "
   ]
  },
  {
   "cell_type": "markdown",
   "metadata": {},
   "source": [
    "Se importan al notebook las librería necesarias para el proyecto "
   ]
  },
  {
   "cell_type": "code",
   "execution_count": 2,
   "metadata": {},
   "outputs": [],
   "source": [
    "import pandas as pd\n",
    "import seaborn as sns\n",
    "import matplotlib.pyplot as plt"
   ]
  },
  {
   "cell_type": "code",
   "execution_count": 3,
   "metadata": {},
   "outputs": [
    {
     "name": "stdout",
     "output_type": "stream",
     "text": [
      "El archivo NO existe. Verifica la ruta o genera el archivo nuevamente.\n"
     ]
    }
   ],
   "source": [
    "import os\n",
    "\n",
    "# Verifica si el archivo existe\n",
    "if os.path.exists(\"data/datos_retail.csv\"):\n",
    "    print(\"El archivo existe.\")\n",
    "else:\n",
    "    print(\"El archivo NO existe. Verifica la ruta o genera el archivo nuevamente.\")"
   ]
  },
  {
   "cell_type": "code",
   "execution_count": 4,
   "metadata": {},
   "outputs": [],
   "source": [
    "df_mart = pd.read_csv(\"../Data/datos_retail.csv\")"
   ]
  },
  {
   "cell_type": "code",
   "execution_count": 5,
   "metadata": {},
   "outputs": [
    {
     "data": {
      "text/html": [
       "<div>\n",
       "<style scoped>\n",
       "    .dataframe tbody tr th:only-of-type {\n",
       "        vertical-align: middle;\n",
       "    }\n",
       "\n",
       "    .dataframe tbody tr th {\n",
       "        vertical-align: top;\n",
       "    }\n",
       "\n",
       "    .dataframe thead th {\n",
       "        text-align: right;\n",
       "    }\n",
       "</style>\n",
       "<table border=\"1\" class=\"dataframe\">\n",
       "  <thead>\n",
       "    <tr style=\"text-align: right;\">\n",
       "      <th></th>\n",
       "      <th>ID_Cliente</th>\n",
       "      <th>Edad</th>\n",
       "      <th>Género</th>\n",
       "      <th>Fecha_Compra</th>\n",
       "      <th>Monto_Compra</th>\n",
       "      <th>Producto_Categoría</th>\n",
       "      <th>Método_Pago</th>\n",
       "      <th>Ubicación_Tienda</th>\n",
       "      <th>Promoción</th>\n",
       "      <th>Frecuencia_Compra</th>\n",
       "    </tr>\n",
       "  </thead>\n",
       "  <tbody>\n",
       "    <tr>\n",
       "      <th>0</th>\n",
       "      <td>1</td>\n",
       "      <td>56</td>\n",
       "      <td>Otro</td>\n",
       "      <td>2020-01-01</td>\n",
       "      <td>414.01</td>\n",
       "      <td>Hogar</td>\n",
       "      <td>Débito</td>\n",
       "      <td>Norte</td>\n",
       "      <td>No</td>\n",
       "      <td>Regular</td>\n",
       "    </tr>\n",
       "    <tr>\n",
       "      <th>1</th>\n",
       "      <td>2</td>\n",
       "      <td>69</td>\n",
       "      <td>Otro</td>\n",
       "      <td>2020-01-02</td>\n",
       "      <td>185.32</td>\n",
       "      <td>Ropa</td>\n",
       "      <td>Tarjeta de Crédito</td>\n",
       "      <td>Norte</td>\n",
       "      <td>Sí</td>\n",
       "      <td>Regular</td>\n",
       "    </tr>\n",
       "  </tbody>\n",
       "</table>\n",
       "</div>"
      ],
      "text/plain": [
       "   ID_Cliente  Edad Género Fecha_Compra  Monto_Compra Producto_Categoría  \\\n",
       "0           1    56   Otro   2020-01-01        414.01              Hogar   \n",
       "1           2    69   Otro   2020-01-02        185.32               Ropa   \n",
       "\n",
       "          Método_Pago Ubicación_Tienda Promoción Frecuencia_Compra  \n",
       "0              Débito            Norte        No           Regular  \n",
       "1  Tarjeta de Crédito            Norte        Sí           Regular  "
      ]
     },
     "execution_count": 5,
     "metadata": {},
     "output_type": "execute_result"
    }
   ],
   "source": [
    "df_mart.head(2)"
   ]
  },
  {
   "cell_type": "markdown",
   "metadata": {},
   "source": [
    "Información genral del datset"
   ]
  },
  {
   "cell_type": "code",
   "execution_count": 6,
   "metadata": {},
   "outputs": [
    {
     "name": "stdout",
     "output_type": "stream",
     "text": [
      "<class 'pandas.core.frame.DataFrame'>\n",
      "RangeIndex: 1000 entries, 0 to 999\n",
      "Data columns (total 10 columns):\n",
      " #   Column              Non-Null Count  Dtype  \n",
      "---  ------              --------------  -----  \n",
      " 0   ID_Cliente          1000 non-null   int64  \n",
      " 1   Edad                1000 non-null   int64  \n",
      " 2   Género              1000 non-null   object \n",
      " 3   Fecha_Compra        1000 non-null   object \n",
      " 4   Monto_Compra        1000 non-null   float64\n",
      " 5   Producto_Categoría  1000 non-null   object \n",
      " 6   Método_Pago         1000 non-null   object \n",
      " 7   Ubicación_Tienda    1000 non-null   object \n",
      " 8   Promoción           1000 non-null   object \n",
      " 9   Frecuencia_Compra   1000 non-null   object \n",
      "dtypes: float64(1), int64(2), object(7)\n",
      "memory usage: 78.3+ KB\n"
     ]
    }
   ],
   "source": [
    "df_mart.info()"
   ]
  },
  {
   "cell_type": "markdown",
   "metadata": {},
   "source": [
    "Información estadistica"
   ]
  },
  {
   "cell_type": "code",
   "execution_count": 7,
   "metadata": {},
   "outputs": [
    {
     "data": {
      "text/html": [
       "<div>\n",
       "<style scoped>\n",
       "    .dataframe tbody tr th:only-of-type {\n",
       "        vertical-align: middle;\n",
       "    }\n",
       "\n",
       "    .dataframe tbody tr th {\n",
       "        vertical-align: top;\n",
       "    }\n",
       "\n",
       "    .dataframe thead th {\n",
       "        text-align: right;\n",
       "    }\n",
       "</style>\n",
       "<table border=\"1\" class=\"dataframe\">\n",
       "  <thead>\n",
       "    <tr style=\"text-align: right;\">\n",
       "      <th></th>\n",
       "      <th>ID_Cliente</th>\n",
       "      <th>Edad</th>\n",
       "      <th>Monto_Compra</th>\n",
       "    </tr>\n",
       "  </thead>\n",
       "  <tbody>\n",
       "    <tr>\n",
       "      <th>count</th>\n",
       "      <td>1000.000000</td>\n",
       "      <td>1000.00000</td>\n",
       "      <td>1000.000000</td>\n",
       "    </tr>\n",
       "    <tr>\n",
       "      <th>mean</th>\n",
       "      <td>500.500000</td>\n",
       "      <td>43.81900</td>\n",
       "      <td>251.304810</td>\n",
       "    </tr>\n",
       "    <tr>\n",
       "      <th>std</th>\n",
       "      <td>288.819436</td>\n",
       "      <td>14.99103</td>\n",
       "      <td>139.440868</td>\n",
       "    </tr>\n",
       "    <tr>\n",
       "      <th>min</th>\n",
       "      <td>1.000000</td>\n",
       "      <td>18.00000</td>\n",
       "      <td>10.090000</td>\n",
       "    </tr>\n",
       "    <tr>\n",
       "      <th>25%</th>\n",
       "      <td>250.750000</td>\n",
       "      <td>31.00000</td>\n",
       "      <td>126.815000</td>\n",
       "    </tr>\n",
       "    <tr>\n",
       "      <th>50%</th>\n",
       "      <td>500.500000</td>\n",
       "      <td>44.00000</td>\n",
       "      <td>252.535000</td>\n",
       "    </tr>\n",
       "    <tr>\n",
       "      <th>75%</th>\n",
       "      <td>750.250000</td>\n",
       "      <td>56.00000</td>\n",
       "      <td>371.800000</td>\n",
       "    </tr>\n",
       "    <tr>\n",
       "      <th>max</th>\n",
       "      <td>1000.000000</td>\n",
       "      <td>69.00000</td>\n",
       "      <td>498.570000</td>\n",
       "    </tr>\n",
       "  </tbody>\n",
       "</table>\n",
       "</div>"
      ],
      "text/plain": [
       "        ID_Cliente        Edad  Monto_Compra\n",
       "count  1000.000000  1000.00000   1000.000000\n",
       "mean    500.500000    43.81900    251.304810\n",
       "std     288.819436    14.99103    139.440868\n",
       "min       1.000000    18.00000     10.090000\n",
       "25%     250.750000    31.00000    126.815000\n",
       "50%     500.500000    44.00000    252.535000\n",
       "75%     750.250000    56.00000    371.800000\n",
       "max    1000.000000    69.00000    498.570000"
      ]
     },
     "execution_count": 7,
     "metadata": {},
     "output_type": "execute_result"
    }
   ],
   "source": [
    "df_mart.describe()"
   ]
  },
  {
   "cell_type": "markdown",
   "metadata": {},
   "source": [
    "Revisión de valores faltantes"
   ]
  },
  {
   "cell_type": "code",
   "execution_count": 9,
   "metadata": {},
   "outputs": [
    {
     "data": {
      "text/plain": [
       "ID_Cliente            0\n",
       "Edad                  0\n",
       "Género                0\n",
       "Fecha_Compra          0\n",
       "Monto_Compra          0\n",
       "Producto_Categoría    0\n",
       "Método_Pago           0\n",
       "Ubicación_Tienda      0\n",
       "Promoción             0\n",
       "Frecuencia_Compra     0\n",
       "dtype: int64"
      ]
     },
     "execution_count": 9,
     "metadata": {},
     "output_type": "execute_result"
    }
   ],
   "source": [
    "df_mart.isnull().sum()"
   ]
  },
  {
   "cell_type": "markdown",
   "metadata": {},
   "source": [
    "#Limpieza y prerocesamiento de datos"
   ]
  },
  {
   "cell_type": "markdown",
   "metadata": {},
   "source": [
    "1.- Manejo de valores faltantes"
   ]
  },
  {
   "cell_type": "code",
   "execution_count": 10,
   "metadata": {},
   "outputs": [
    {
     "name": "stdout",
     "output_type": "stream",
     "text": [
      "Valores faltantes por columna\n"
     ]
    },
    {
     "data": {
      "text/plain": [
       "ID_Cliente            0\n",
       "Edad                  0\n",
       "Género                0\n",
       "Fecha_Compra          0\n",
       "Monto_Compra          0\n",
       "Producto_Categoría    0\n",
       "Método_Pago           0\n",
       "Ubicación_Tienda      0\n",
       "Promoción             0\n",
       "Frecuencia_Compra     0\n",
       "dtype: int64"
      ]
     },
     "execution_count": 10,
     "metadata": {},
     "output_type": "execute_result"
    }
   ],
   "source": [
    "print(\"Valores faltantes por columna\")\n",
    "df_mart.isnull().sum()"
   ]
  },
  {
   "cell_type": "markdown",
   "metadata": {},
   "source": [
    "No existen valores faltantes en el dataset"
   ]
  },
  {
   "cell_type": "markdown",
   "metadata": {},
   "source": [
    "2.- Corrección de tipos de datos"
   ]
  },
  {
   "cell_type": "code",
   "execution_count": 12,
   "metadata": {},
   "outputs": [
    {
     "name": "stdout",
     "output_type": "stream",
     "text": [
      "Tipo de datos\n"
     ]
    },
    {
     "data": {
      "text/plain": [
       "ID_Cliente              int64\n",
       "Edad                    int64\n",
       "Género                 object\n",
       "Fecha_Compra           object\n",
       "Monto_Compra          float64\n",
       "Producto_Categoría     object\n",
       "Método_Pago            object\n",
       "Ubicación_Tienda       object\n",
       "Promoción              object\n",
       "Frecuencia_Compra      object\n",
       "dtype: object"
      ]
     },
     "execution_count": 12,
     "metadata": {},
     "output_type": "execute_result"
    }
   ],
   "source": [
    "print(\"Tipo de datos\")\n",
    "df_mart.dtypes"
   ]
  },
  {
   "cell_type": "markdown",
   "metadata": {},
   "source": [
    "El dato 'Frecuencia-compra' tiene un tipo 'object' por lo que lo camiaremos a un tipo de dato 'datetime'"
   ]
  },
  {
   "cell_type": "code",
   "execution_count": 13,
   "metadata": {},
   "outputs": [],
   "source": [
    "df_mart['Frecuencia_Compra'] = pd.to_datetime(df_mart['Fecha_Compra'])"
   ]
  },
  {
   "cell_type": "markdown",
   "metadata": {},
   "source": [
    "Verificamos si se realizo la conversión "
   ]
  },
  {
   "cell_type": "code",
   "execution_count": 15,
   "metadata": {},
   "outputs": [
    {
     "name": "stdout",
     "output_type": "stream",
     "text": [
      "Tipo de datos\n"
     ]
    },
    {
     "data": {
      "text/plain": [
       "ID_Cliente                     int64\n",
       "Edad                           int64\n",
       "Género                        object\n",
       "Fecha_Compra                  object\n",
       "Monto_Compra                 float64\n",
       "Producto_Categoría            object\n",
       "Método_Pago                   object\n",
       "Ubicación_Tienda              object\n",
       "Promoción                     object\n",
       "Frecuencia_Compra     datetime64[ns]\n",
       "dtype: object"
      ]
     },
     "execution_count": 15,
     "metadata": {},
     "output_type": "execute_result"
    }
   ],
   "source": [
    "print(\"Tipo de datos\")\n",
    "df_mart.dtypes"
   ]
  },
  {
   "cell_type": "markdown",
   "metadata": {},
   "source": [
    "Se realizó la conversión de datos"
   ]
  },
  {
   "cell_type": "markdown",
   "metadata": {},
   "source": [
    "3.- Detección de outliers"
   ]
  },
  {
   "cell_type": "code",
   "execution_count": 25,
   "metadata": {},
   "outputs": [
    {
     "data": {
      "image/png": "[encoded data removed]",
      "text/plain": [
       "<Figure size 800x600 with 1 Axes>"
      ]
     },
     "metadata": {},
     "output_type": "display_data"
    }
   ],
   "source": [
    "plt.figure(figsize=(8,6))\n",
    "sns.boxplot(y=df_mart['Monto_Compra'])\n",
    "plt.title(\"Boxplot Monto de compra\")\n",
    "plt.show()"
   ]
  },
  {
   "cell_type": "markdown",
   "metadata": {},
   "source": [
    "Los datos tienen una distribucíon simétrica y existe poca disperción de datos. No existen valores outliers en el dataset"
   ]
  },
  {
   "cell_type": "markdown",
   "metadata": {},
   "source": [
    "4. Transformación de datos"
   ]
  },
  {
   "cell_type": "markdown",
   "metadata": {},
   "source": [
    "Crearemos una columna 'Año' a partir de 'Fecha_compra'"
   ]
  },
  {
   "cell_type": "code",
   "execution_count": 26,
   "metadata": {},
   "outputs": [],
   "source": [
    "df_mart['Año'] = df_mart['Frecuencia_Compra'].dt.year"
   ]
  },
  {
   "cell_type": "code",
   "execution_count": 27,
   "metadata": {},
   "outputs": [
    {
     "name": "stdout",
     "output_type": "stream",
     "text": [
      "Dataset con la nueva columna 'Año\n"
     ]
    },
    {
     "data": {
      "text/html": [
       "<div>\n",
       "<style scoped>\n",
       "    .dataframe tbody tr th:only-of-type {\n",
       "        vertical-align: middle;\n",
       "    }\n",
       "\n",
       "    .dataframe tbody tr th {\n",
       "        vertical-align: top;\n",
       "    }\n",
       "\n",
       "    .dataframe thead th {\n",
       "        text-align: right;\n",
       "    }\n",
       "</style>\n",
       "<table border=\"1\" class=\"dataframe\">\n",
       "  <thead>\n",
       "    <tr style=\"text-align: right;\">\n",
       "      <th></th>\n",
       "      <th>ID_Cliente</th>\n",
       "      <th>Edad</th>\n",
       "      <th>Género</th>\n",
       "      <th>Fecha_Compra</th>\n",
       "      <th>Monto_Compra</th>\n",
       "      <th>Producto_Categoría</th>\n",
       "      <th>Método_Pago</th>\n",
       "      <th>Ubicación_Tienda</th>\n",
       "      <th>Promoción</th>\n",
       "      <th>Frecuencia_Compra</th>\n",
       "      <th>Anio</th>\n",
       "      <th>Año</th>\n",
       "    </tr>\n",
       "  </thead>\n",
       "  <tbody>\n",
       "    <tr>\n",
       "      <th>0</th>\n",
       "      <td>1</td>\n",
       "      <td>56</td>\n",
       "      <td>Otro</td>\n",
       "      <td>2020-01-01</td>\n",
       "      <td>414.01</td>\n",
       "      <td>Hogar</td>\n",
       "      <td>Débito</td>\n",
       "      <td>Norte</td>\n",
       "      <td>No</td>\n",
       "      <td>2020-01-01</td>\n",
       "      <td>2020</td>\n",
       "      <td>2020</td>\n",
       "    </tr>\n",
       "    <tr>\n",
       "      <th>1</th>\n",
       "      <td>2</td>\n",
       "      <td>69</td>\n",
       "      <td>Otro</td>\n",
       "      <td>2020-01-02</td>\n",
       "      <td>185.32</td>\n",
       "      <td>Ropa</td>\n",
       "      <td>Tarjeta de Crédito</td>\n",
       "      <td>Norte</td>\n",
       "      <td>Sí</td>\n",
       "      <td>2020-01-02</td>\n",
       "      <td>2020</td>\n",
       "      <td>2020</td>\n",
       "    </tr>\n",
       "    <tr>\n",
       "      <th>2</th>\n",
       "      <td>3</td>\n",
       "      <td>46</td>\n",
       "      <td>Otro</td>\n",
       "      <td>2020-01-03</td>\n",
       "      <td>167.83</td>\n",
       "      <td>Electrónica</td>\n",
       "      <td>Tarjeta de Crédito</td>\n",
       "      <td>Centro</td>\n",
       "      <td>Sí</td>\n",
       "      <td>2020-01-03</td>\n",
       "      <td>2020</td>\n",
       "      <td>2020</td>\n",
       "    </tr>\n",
       "    <tr>\n",
       "      <th>3</th>\n",
       "      <td>4</td>\n",
       "      <td>32</td>\n",
       "      <td>Masculino</td>\n",
       "      <td>2020-01-04</td>\n",
       "      <td>488.96</td>\n",
       "      <td>Hogar</td>\n",
       "      <td>Efectivo</td>\n",
       "      <td>Norte</td>\n",
       "      <td>No</td>\n",
       "      <td>2020-01-04</td>\n",
       "      <td>2020</td>\n",
       "      <td>2020</td>\n",
       "    </tr>\n",
       "    <tr>\n",
       "      <th>4</th>\n",
       "      <td>5</td>\n",
       "      <td>60</td>\n",
       "      <td>Otro</td>\n",
       "      <td>2020-01-05</td>\n",
       "      <td>108.42</td>\n",
       "      <td>Ropa</td>\n",
       "      <td>Débito</td>\n",
       "      <td>Norte</td>\n",
       "      <td>Sí</td>\n",
       "      <td>2020-01-05</td>\n",
       "      <td>2020</td>\n",
       "      <td>2020</td>\n",
       "    </tr>\n",
       "  </tbody>\n",
       "</table>\n",
       "</div>"
      ],
      "text/plain": [
       "   ID_Cliente  Edad     Género Fecha_Compra  Monto_Compra Producto_Categoría  \\\n",
       "0           1    56       Otro   2020-01-01        414.01              Hogar   \n",
       "1           2    69       Otro   2020-01-02        185.32               Ropa   \n",
       "2           3    46       Otro   2020-01-03        167.83        Electrónica   \n",
       "3           4    32  Masculino   2020-01-04        488.96              Hogar   \n",
       "4           5    60       Otro   2020-01-05        108.42               Ropa   \n",
       "\n",
       "          Método_Pago Ubicación_Tienda Promoción Frecuencia_Compra  Anio   Año  \n",
       "0              Débito            Norte        No        2020-01-01  2020  2020  \n",
       "1  Tarjeta de Crédito            Norte        Sí        2020-01-02  2020  2020  \n",
       "2  Tarjeta de Crédito           Centro        Sí        2020-01-03  2020  2020  \n",
       "3            Efectivo            Norte        No        2020-01-04  2020  2020  \n",
       "4              Débito            Norte        Sí        2020-01-05  2020  2020  "
      ]
     },
     "execution_count": 27,
     "metadata": {},
     "output_type": "execute_result"
    }
   ],
   "source": [
    "print(\"Dataset con la nueva columna 'Año\")\n",
    "df_mart.head()"
   ]
  },
  {
   "cell_type": "markdown",
   "metadata": {},
   "source": [
    "#4 Análisis exploratorio de datos (EDA)"
   ]
  }
 ],
 "metadata": {
  "kernelspec": {
   "display_name": "venv",
   "language": "python",
   "name": "python3"
  },
  "language_info": {
   "codemirror_mode": {
    "name": "ipython",
    "version": 3
   },
   "file_extension": ".py",
   "mimetype": "text/x-python",
   "name": "python",
   "nbconvert_exporter": "python",
   "pygments_lexer": "ipython3",
   "version": "3.13.1"
  }
 },
 "nbformat": 4,
 "nbformat_minor": 2
}
