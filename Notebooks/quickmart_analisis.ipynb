{
 "cells": [
  {
   "cell_type": "markdown",
   "metadata": {},
   "source": [
    "Carga y exploracion inicial de datos "
   ]
  },
  {
   "cell_type": "markdown",
   "metadata": {},
   "source": [
    "Se importan al notebook las librería necesarias para el proyecto "
   ]
  },
  {
   "cell_type": "code",
   "execution_count": 2,
   "metadata": {},
   "outputs": [],
   "source": [
    "import pandas as pd\n",
    "import seaborn as sns\n",
    "import matplotlib.pyplot as plt"
   ]
  },
  {
   "cell_type": "code",
   "execution_count": null,
   "metadata": {},
   "outputs": [
    {
     "name": "stdout",
     "output_type": "stream",
     "text": [
      "El archivo NO existe. Verifica la ruta o genera el archivo nuevamente.\n"
     ]
    }
   ],
   "source": [
    "import os\n",
    "\n",
    "# Verifica si el archivo existe\n",
    "if os.path.exists(\"data/datos_retail.csv\"):\n",
    "    print(\"El archivo existe.\")\n",
    "else:\n",
    "    print(\"El archivo NO existe. Verifica la ruta o genera el archivo nuevamente.\")"
   ]
  },
  {
   "cell_type": "code",
   "execution_count": 11,
   "metadata": {},
   "outputs": [],
   "source": [
    "df_mart = pd.read_csv(\"../Data/datos_retail.csv\")"
   ]
  },
  {
   "cell_type": "code",
   "execution_count": 12,
   "metadata": {},
   "outputs": [
    {
     "data": {
      "text/html": [
       "<div>\n",
       "<style scoped>\n",
       "    .dataframe tbody tr th:only-of-type {\n",
       "        vertical-align: middle;\n",
       "    }\n",
       "\n",
       "    .dataframe tbody tr th {\n",
       "        vertical-align: top;\n",
       "    }\n",
       "\n",
       "    .dataframe thead th {\n",
       "        text-align: right;\n",
       "    }\n",
       "</style>\n",
       "<table border=\"1\" class=\"dataframe\">\n",
       "  <thead>\n",
       "    <tr style=\"text-align: right;\">\n",
       "      <th></th>\n",
       "      <th>ID_Cliente</th>\n",
       "      <th>Edad</th>\n",
       "      <th>Género</th>\n",
       "      <th>Fecha_Compra</th>\n",
       "      <th>Monto_Compra</th>\n",
       "      <th>Producto_Categoría</th>\n",
       "      <th>Método_Pago</th>\n",
       "      <th>Ubicación_Tienda</th>\n",
       "      <th>Promoción</th>\n",
       "      <th>Frecuencia_Compra</th>\n",
       "    </tr>\n",
       "  </thead>\n",
       "  <tbody>\n",
       "    <tr>\n",
       "      <th>0</th>\n",
       "      <td>1</td>\n",
       "      <td>56</td>\n",
       "      <td>Otro</td>\n",
       "      <td>2020-01-01</td>\n",
       "      <td>414.01</td>\n",
       "      <td>Hogar</td>\n",
       "      <td>Débito</td>\n",
       "      <td>Norte</td>\n",
       "      <td>No</td>\n",
       "      <td>Regular</td>\n",
       "    </tr>\n",
       "    <tr>\n",
       "      <th>1</th>\n",
       "      <td>2</td>\n",
       "      <td>69</td>\n",
       "      <td>Otro</td>\n",
       "      <td>2020-01-02</td>\n",
       "      <td>185.32</td>\n",
       "      <td>Ropa</td>\n",
       "      <td>Tarjeta de Crédito</td>\n",
       "      <td>Norte</td>\n",
       "      <td>Sí</td>\n",
       "      <td>Regular</td>\n",
       "    </tr>\n",
       "  </tbody>\n",
       "</table>\n",
       "</div>"
      ],
      "text/plain": [
       "   ID_Cliente  Edad Género Fecha_Compra  Monto_Compra Producto_Categoría  \\\n",
       "0           1    56   Otro   2020-01-01        414.01              Hogar   \n",
       "1           2    69   Otro   2020-01-02        185.32               Ropa   \n",
       "\n",
       "          Método_Pago Ubicación_Tienda Promoción Frecuencia_Compra  \n",
       "0              Débito            Norte        No           Regular  \n",
       "1  Tarjeta de Crédito            Norte        Sí           Regular  "
      ]
     },
     "execution_count": 12,
     "metadata": {},
     "output_type": "execute_result"
    }
   ],
   "source": [
    "df_mart.head(2)"
   ]
  },
  {
   "cell_type": "markdown",
   "metadata": {},
   "source": [
    "Información genral del datset"
   ]
  },
  {
   "cell_type": "code",
   "execution_count": 13,
   "metadata": {},
   "outputs": [
    {
     "name": "stdout",
     "output_type": "stream",
     "text": [
      "<class 'pandas.core.frame.DataFrame'>\n",
      "RangeIndex: 1000 entries, 0 to 999\n",
      "Data columns (total 10 columns):\n",
      " #   Column              Non-Null Count  Dtype  \n",
      "---  ------              --------------  -----  \n",
      " 0   ID_Cliente          1000 non-null   int64  \n",
      " 1   Edad                1000 non-null   int64  \n",
      " 2   Género              1000 non-null   object \n",
      " 3   Fecha_Compra        1000 non-null   object \n",
      " 4   Monto_Compra        1000 non-null   float64\n",
      " 5   Producto_Categoría  1000 non-null   object \n",
      " 6   Método_Pago         1000 non-null   object \n",
      " 7   Ubicación_Tienda    1000 non-null   object \n",
      " 8   Promoción           1000 non-null   object \n",
      " 9   Frecuencia_Compra   1000 non-null   object \n",
      "dtypes: float64(1), int64(2), object(7)\n",
      "memory usage: 78.3+ KB\n"
     ]
    }
   ],
   "source": [
    "df_mart.info()"
   ]
  },
  {
   "cell_type": "markdown",
   "metadata": {},
   "source": []
  }
 ],
 "metadata": {
  "kernelspec": {
   "display_name": "venv",
   "language": "python",
   "name": "python3"
  },
  "language_info": {
   "codemirror_mode": {
    "name": "ipython",
    "version": 3
   },
   "file_extension": ".py",
   "mimetype": "text/x-python",
   "name": "python",
   "nbconvert_exporter": "python",
   "pygments_lexer": "ipython3",
   "version": "3.13.1"
  }
 },
 "nbformat": 4,
 "nbformat_minor": 2
}
